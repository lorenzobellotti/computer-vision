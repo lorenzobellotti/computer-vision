{
 "cells": [
  {
   "cell_type": "markdown",
   "metadata": {},
   "source": [
    "IMPORT LIBRERIE"
   ]
  },
  {
   "cell_type": "code",
   "execution_count": 1,
   "metadata": {},
   "outputs": [],
   "source": [
    "from IPython.display import Image\n",
    "import pandas as pd\n",
    "import numpy as np\n",
    "import tensorflow as tf\n",
    "from tensorflow import keras\n",
    "from sklearn import metrics\n",
    "from tensorflow.keras.models import Sequential, model_from_json\n",
    "from tensorflow.keras.layers import Activation, Dense, Flatten, BatchNormalization, Conv2D, MaxPool2D\n",
    "from tensorflow.keras.optimizers import Adam\n",
    "from tensorflow.keras.metrics import categorical_crossentropy\n",
    "from tensorflow.keras.preprocessing.image import ImageDataGenerator\n",
    "from sklearn.metrics import confusion_matrix, roc_auc_score, roc_curve\n",
    "import itertools\n",
    "import os\n",
    "import shutil\n",
    "from random import randint\n",
    "import random\n",
    "import glob\n",
    "import matplotlib.pyplot as plt\n",
    "import warnings\n",
    "warnings.simplefilter(action='ignore', category=FutureWarning)\n",
    "%matplotlib inline\n"
   ]
  },
  {
   "cell_type": "markdown",
   "metadata": {},
   "source": [
    "LOAD MODEL"
   ]
  },
  {
   "cell_type": "code",
   "execution_count": 2,
   "metadata": {},
   "outputs": [
    {
     "name": "stdout",
     "output_type": "stream",
     "text": [
      "Loaded model from disk\n"
     ]
    }
   ],
   "source": [
    "#load model dalla cartella Models\n",
    "json_file = open('..\\\\Models\\\\model.json', 'r')\n",
    "loaded_model_json = json_file.read()\n",
    "json_file.close()\n",
    "loaded_model = model_from_json(loaded_model_json)\n",
    "\n",
    "loaded_model.load_weights(\"..\\\\Models\\\\model.h5\")\n",
    "print(\"Loaded model from disk\")"
   ]
  },
  {
   "cell_type": "markdown",
   "metadata": {},
   "source": [
    "TESTING"
   ]
  },
  {
   "cell_type": "code",
   "execution_count": 3,
   "metadata": {},
   "outputs": [],
   "source": [
    "train_path = '..\\\\Data\\\\Prepared\\\\train'\n",
    "valid_path = '..\\\\Data\\\\Prepared\\\\valid'\n",
    "test_path = '..\\\\Data\\\\Prepared\\\\test'"
   ]
  },
  {
   "cell_type": "code",
   "execution_count": 4,
   "metadata": {},
   "outputs": [
    {
     "name": "stdout",
     "output_type": "stream",
     "text": [
      "Found 800 images belonging to 2 classes.\n",
      "Found 100 images belonging to 2 classes.\n",
      "Found 100 images belonging to 2 classes.\n"
     ]
    }
   ],
   "source": [
    "#applicazione image processing\n",
    "train_batches = ImageDataGenerator(preprocessing_function=tf.keras.applications.inception_v3.preprocess_input) \\\n",
    ".flow_from_directory(directory=train_path, target_size=(299,299), classes=['ok','nok'], batch_size=10)\n",
    "\n",
    "valid_batches = ImageDataGenerator(preprocessing_function=tf.keras.applications.inception_v3.preprocess_input) \\\n",
    ".flow_from_directory(directory=valid_path, target_size=(299,299), classes=['ok','nok'], batch_size=10)\n",
    "\n",
    "test_batches = ImageDataGenerator(preprocessing_function=tf.keras.applications.inception_v3.preprocess_input) \\\n",
    ".flow_from_directory(directory=test_path,  target_size=(299,299), classes=['ok','nok'], batch_size=10, shuffle=False)"
   ]
  },
  {
   "cell_type": "code",
   "execution_count": 5,
   "metadata": {},
   "outputs": [],
   "source": [
    "assert train_batches.n == 800\n",
    "assert valid_batches.n == 100\n",
    "assert test_batches.n == 100\n",
    "assert train_batches.num_classes == valid_batches.num_classes == test_batches.num_classes == 2"
   ]
  },
  {
   "cell_type": "code",
   "execution_count": 6,
   "metadata": {},
   "outputs": [],
   "source": [
    "X_test = test_batches\n",
    "y_test = test_batches.classes"
   ]
  },
  {
   "cell_type": "code",
   "execution_count": 7,
   "metadata": {},
   "outputs": [],
   "source": [
    "predictions = loaded_model.predict(x=X_test, verbose=0)"
   ]
  },
  {
   "cell_type": "code",
   "execution_count": 8,
   "metadata": {},
   "outputs": [
    {
     "name": "stdout",
     "output_type": "stream",
     "text": [
      "[9.9965918e-01 3.4084893e-04]\n",
      "[0.9985405  0.00145953]\n",
      "[9.9911660e-01 8.8341325e-04]\n",
      "[0.9989786  0.00102143]\n",
      "[0.9989786  0.00102143]\n",
      "[0.9847792 0.0152208]\n",
      "[9.990146e-01 9.853630e-04]\n",
      "[0.99004024 0.00995977]\n",
      "[0.9847792 0.0152208]\n",
      "[9.9999976e-01 2.1051738e-07]\n",
      "[9.9999535e-01 4.6118157e-06]\n",
      "[0.99004024 0.00995977]\n",
      "[9.997929e-01 2.071838e-04]\n",
      "[9.9972969e-01 2.7029458e-04]\n",
      "[1.0000000e+00 3.5596563e-09]\n",
      "[1.0000000e+00 3.5596563e-09]\n",
      "[9.9972969e-01 2.7029458e-04]\n",
      "[9.9919981e-01 8.0022356e-04]\n",
      "[9.991825e-01 8.174100e-04]\n",
      "[9.997929e-01 2.071838e-04]\n",
      "[9.991825e-01 8.174100e-04]\n",
      "[0.99854124 0.00145878]\n",
      "[1.0000000e+00 1.3947375e-08]\n",
      "[9.9920636e-01 7.9369708e-04]\n",
      "[9.9980038e-01 1.9958313e-04]\n",
      "[9.9946135e-01 5.3868425e-04]\n",
      "[1.0000000e+00 3.7686854e-09]\n",
      "[9.9920636e-01 7.9369708e-04]\n",
      "[9.9966121e-01 3.3883922e-04]\n",
      "[9.9980038e-01 1.9958313e-04]\n",
      "[9.9946135e-01 5.3868425e-04]\n",
      "[9.9980038e-01 1.9958313e-04]\n",
      "[9.9918216e-01 8.1786781e-04]\n",
      "[9.9918216e-01 8.1786781e-04]\n",
      "[0.99854124 0.00145878]\n",
      "[9.9972969e-01 2.7024173e-04]\n",
      "[9.9979299e-01 2.0697963e-04]\n",
      "[9.9918550e-01 8.1453787e-04]\n",
      "[9.9979454e-01 2.0548794e-04]\n",
      "[9.9918550e-01 8.1453787e-04]\n",
      "[9.990146e-01 9.853630e-04]\n",
      "[1.0000000e+00 1.3947375e-08]\n",
      "[9.9919981e-01 8.0022356e-04]\n",
      "[9.9979454e-01 2.0548794e-04]\n",
      "[9.9918550e-01 8.1453787e-04]\n",
      "[9.9973005e-01 2.6989132e-04]\n",
      "[1.0000000e+00 1.3947375e-08]\n",
      "[9.9919981e-01 8.0022356e-04]\n",
      "[9.990146e-01 9.853630e-04]\n",
      "[0.9989786  0.00102143]\n",
      "[3.6692116e-29 1.0000000e+00]\n",
      "[4.148536e-24 1.000000e+00]\n",
      "[1.0866164e-23 1.0000000e+00]\n",
      "[5.5312586e-14 1.0000000e+00]\n",
      "[6.8567735e-20 1.0000000e+00]\n",
      "[3.0214668e-17 1.0000000e+00]\n",
      "[4.6291513e-26 1.0000000e+00]\n",
      "[4.4933547e-34 1.0000000e+00]\n",
      "[1.3047916e-25 1.0000000e+00]\n",
      "[1.3254367e-15 1.0000000e+00]\n",
      "[1.7227317e-22 1.0000000e+00]\n",
      "[5.067332e-22 1.000000e+00]\n",
      "[5.456049e-28 1.000000e+00]\n",
      "[5.274556e-24 1.000000e+00]\n",
      "[7.622179e-24 1.000000e+00]\n",
      "[1.1638277e-15 1.0000000e+00]\n",
      "[5.398483e-32 1.000000e+00]\n",
      "[2.337887e-29 1.000000e+00]\n",
      "[5.878286e-26 1.000000e+00]\n",
      "[7.8546846e-25 1.0000000e+00]\n",
      "[9.449992e-22 1.000000e+00]\n",
      "[1.437626e-19 1.000000e+00]\n",
      "[1.0536021e-09 1.0000000e+00]\n",
      "[4.8208118e-27 1.0000000e+00]\n",
      "[7.294991e-27 1.000000e+00]\n",
      "[2.0103729e-19 1.0000000e+00]\n",
      "[1.616356e-24 1.000000e+00]\n",
      "[7.664502e-20 1.000000e+00]\n",
      "[2.255133e-16 1.000000e+00]\n",
      "[2.7976986e-15 1.0000000e+00]\n",
      "[8.283623e-23 1.000000e+00]\n",
      "[1.3144324e-19 1.0000000e+00]\n",
      "[4.4510405e-29 1.0000000e+00]\n",
      "[1.0319061e-20 1.0000000e+00]\n",
      "[3.7733138e-22 1.0000000e+00]\n",
      "[2.615209e-26 1.000000e+00]\n",
      "[1.8276708e-23 1.0000000e+00]\n",
      "[1.1539108e-17 1.0000000e+00]\n",
      "[1.7449056e-25 1.0000000e+00]\n",
      "[3.063316e-25 1.000000e+00]\n",
      "[4.3089875e-26 1.0000000e+00]\n",
      "[1.00000000e+00 1.43838825e-08]\n",
      "[0.9952566  0.00474342]\n",
      "[1.168829e-22 1.000000e+00]\n",
      "[1.4166866e-21 1.0000000e+00]\n",
      "[6.735701e-21 1.000000e+00]\n",
      "[1.4922315e-06 9.9999845e-01]\n",
      "[8.872582e-06 9.999912e-01]\n",
      "[5.4719906e-22 1.0000000e+00]\n",
      "[1.0000000e+00 3.5596563e-09]\n"
     ]
    }
   ],
   "source": [
    "#probabilità di appartenere a 0 o 1\n",
    "for i in predictions:\n",
    "    print(i)"
   ]
  },
  {
   "cell_type": "code",
   "execution_count": 9,
   "metadata": {},
   "outputs": [
    {
     "name": "stdout",
     "output_type": "stream",
     "text": [
      "0\n",
      "0\n",
      "0\n",
      "0\n",
      "0\n",
      "0\n",
      "0\n",
      "0\n",
      "0\n",
      "0\n",
      "0\n",
      "0\n",
      "0\n",
      "0\n",
      "0\n",
      "0\n",
      "0\n",
      "0\n",
      "0\n",
      "0\n",
      "0\n",
      "0\n",
      "0\n",
      "0\n",
      "0\n",
      "0\n",
      "0\n",
      "0\n",
      "0\n",
      "0\n",
      "0\n",
      "0\n",
      "0\n",
      "0\n",
      "0\n",
      "0\n",
      "0\n",
      "0\n",
      "0\n",
      "0\n",
      "0\n",
      "0\n",
      "0\n",
      "0\n",
      "0\n",
      "0\n",
      "0\n",
      "0\n",
      "0\n",
      "0\n",
      "1\n",
      "1\n",
      "1\n",
      "1\n",
      "1\n",
      "1\n",
      "1\n",
      "1\n",
      "1\n",
      "1\n",
      "1\n",
      "1\n",
      "1\n",
      "1\n",
      "1\n",
      "1\n",
      "1\n",
      "1\n",
      "1\n",
      "1\n",
      "1\n",
      "1\n",
      "1\n",
      "1\n",
      "1\n",
      "1\n",
      "1\n",
      "1\n",
      "1\n",
      "1\n",
      "1\n",
      "1\n",
      "1\n",
      "1\n",
      "1\n",
      "1\n",
      "1\n",
      "1\n",
      "1\n",
      "1\n",
      "1\n",
      "0\n",
      "0\n",
      "1\n",
      "1\n",
      "1\n",
      "1\n",
      "1\n",
      "1\n",
      "0\n"
     ]
    }
   ],
   "source": [
    "#definizione classe di appartenenza predizione con threshold pari a 0.5\n",
    "rounded_predictions = predictions[:,1]\n",
    "rounded_predictions = np.where(rounded_predictions>0.5, 1, 0)\n",
    "for i in rounded_predictions:\n",
    "    print(i)"
   ]
  },
  {
   "cell_type": "code",
   "execution_count": 10,
   "metadata": {},
   "outputs": [],
   "source": [
    "y_pred=rounded_predictions"
   ]
  },
  {
   "cell_type": "markdown",
   "metadata": {},
   "source": [
    "EVALUATION"
   ]
  },
  {
   "cell_type": "markdown",
   "metadata": {},
   "source": [
    "1)CONFUSION MATRIX"
   ]
  },
  {
   "cell_type": "code",
   "execution_count": 11,
   "metadata": {},
   "outputs": [],
   "source": [
    "cm = confusion_matrix(y_true=y_test, y_pred=y_pred)"
   ]
  },
  {
   "cell_type": "code",
   "execution_count": 12,
   "metadata": {},
   "outputs": [],
   "source": [
    "def plot_confusion_matrix(cm, classes,\n",
    "                          normalize=False,\n",
    "                          title='Confusion matrix',\n",
    "                          cmap=plt.cm.Blues):\n",
    "\n",
    "    plt.imshow(cm, interpolation='nearest', cmap=cmap)\n",
    "    plt.title(title)\n",
    "    plt.colorbar()\n",
    "    tick_marks = np.arange(len(classes))\n",
    "    plt.xticks(tick_marks, classes, rotation=45)\n",
    "    plt.yticks(tick_marks, classes)\n",
    "\n",
    "    if normalize:\n",
    "        cm = cm.astype('float') / cm.sum(axis=1)[:, np.newaxis]\n",
    "        print(\"Normalized confusion matrix\")\n",
    "    else:\n",
    "        print('Confusion matrix, without normalization')\n",
    "\n",
    "    print(cm)\n",
    "\n",
    "    thresh = cm.max() / 2.\n",
    "    for i, j in itertools.product(range(cm.shape[0]), range(cm.shape[1])):\n",
    "        plt.text(j, i, cm[i, j],\n",
    "                 horizontalalignment=\"center\",\n",
    "                 color=\"white\" if cm[i, j] > thresh else \"black\")\n",
    "\n",
    "    plt.tight_layout()\n",
    "    plt.ylabel('True label')"
   ]
  },
  {
   "cell_type": "code",
   "execution_count": 13,
   "metadata": {},
   "outputs": [],
   "source": [
    "cm_plot_labels = ['ok_image','nok_image']"
   ]
  },
  {
   "cell_type": "code",
   "execution_count": 14,
   "metadata": {},
   "outputs": [
    {
     "name": "stdout",
     "output_type": "stream",
     "text": [
      "Confusion matrix, without normalization\n",
      "[[50  0]\n",
      " [ 3 47]]\n"
     ]
    },
    {
     "data": {
      "image/png": "[encoded data removed]",
      "text/plain": [
       "<Figure size 432x288 with 2 Axes>"
      ]
     },
     "metadata": {
      "needs_background": "light"
     },
     "output_type": "display_data"
    }
   ],
   "source": [
    "plot_confusion_matrix(cm=cm, classes=cm_plot_labels, title='Confusion Matrix')"
   ]
  },
  {
   "cell_type": "markdown",
   "metadata": {},
   "source": [
    "2) ACCURACY, PRECISION, F1-SCORE E RECALL"
   ]
  },
  {
   "cell_type": "code",
   "execution_count": 15,
   "metadata": {},
   "outputs": [
    {
     "name": "stdout",
     "output_type": "stream",
     "text": [
      "              precision    recall  f1-score   support\n",
      "\n",
      "           0       0.94      1.00      0.97        50\n",
      "           1       1.00      0.94      0.97        50\n",
      "\n",
      "    accuracy                           0.97       100\n",
      "   macro avg       0.97      0.97      0.97       100\n",
      "weighted avg       0.97      0.97      0.97       100\n",
      "\n"
     ]
    }
   ],
   "source": [
    "from sklearn.metrics import classification_report\n",
    "print(classification_report(y_test, y_pred))"
   ]
  },
  {
   "cell_type": "markdown",
   "metadata": {},
   "source": [
    "3) ROC CURVE"
   ]
  },
  {
   "cell_type": "code",
   "execution_count": 16,
   "metadata": {},
   "outputs": [
    {
     "name": "stdout",
     "output_type": "stream",
     "text": [
      "10/10 [==============================] - 9s 911ms/step\n",
      "10/10 [==============================] - 11s 1s/step\n"
     ]
    },
    {
     "data": {
      "image/png": "[encoded data removed]",
      "text/plain": [
       "<Figure size 432x288 with 1 Axes>"
      ]
     },
     "metadata": {
      "needs_background": "light"
     },
     "output_type": "display_data"
    }
   ],
   "source": [
    "cnn_roc_auc = roc_auc_score(y_test, loaded_model.predict(X_test)[:,1])\n",
    "fpr, tpr, thresholds = roc_curve(y_test, loaded_model.predict(X_test)[:,1])\n",
    "plt.figure()\n",
    "plt.plot(fpr, tpr, label='Convolutional Neural Network (area = %0.4f)' % cnn_roc_auc)\n",
    "plt.plot([0, 1], [0, 1],'r--')\n",
    "plt.xlim([0.0, 1.0])\n",
    "plt.ylim([0.0, 1.05])\n",
    "plt.xlabel('False Positive Rate')\n",
    "plt.ylabel('True Positive Rate')\n",
    "plt.title('Receiver operating characteristic')\n",
    "plt.legend(loc=\"lower right\")\n",
    "plt.show()"
   ]
  }
 ],
 "metadata": {
  "kernelspec": {
   "display_name": "Python 3.8.3 ('base')",
   "language": "python",
   "name": "python3"
  },
  "language_info": {
   "codemirror_mode": {
    "name": "ipython",
    "version": 3
   },
   "file_extension": ".py",
   "mimetype": "text/x-python",
   "name": "python",
   "nbconvert_exporter": "python",
   "pygments_lexer": "ipython3",
   "version": "3.8.3"
  },
  "orig_nbformat": 4,
  "vscode": {
   "interpreter": {
    "hash": "04f665aa82a7af270bc849eda0b0b8c3ed818378325e9cbfb80426ce388cfa52"
   }
  }
 },
 "nbformat": 4,
 "nbformat_minor": 2
}
